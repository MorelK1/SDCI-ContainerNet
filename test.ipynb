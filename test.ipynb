{
 "cells": [
  {
   "cell_type": "code",
   "execution_count": null,
   "id": "fe92e504",
   "metadata": {},
   "outputs": [],
   "source": [
    "import json\n",
    "\n",
    "# Example JSON-like data\n",
    "data = {\n",
    "    \"4\": [\n",
    "        {\n",
    "            \"rx_packets\": 802,\n",
    "            \"tx_packets\": 884,\n",
    "            \"rx_bytes\": 87282,\n",
    "            \"tx_bytes\": 97735,\n",
    "            \"rx_dropped\": 0,\n",
    "            \"tx_dropped\": 0,\n",
    "            \"rx_errors\": 0,\n",
    "            \"tx_errors\": 0,\n",
    "            \"rx_frame_err\": 0,\n",
    "            \"rx_over_err\": 0,\n",
    "            \"rx_crc_err\": 0,\n",
    "            \"collisions\": 0,\n",
    "            \"duration_sec\": 78,\n",
    "            \"duration_nsec\": 512000000,\n",
    "            \"port_no\": 5\n",
    "        }\n",
    "    ]\n",
    "}\n",
    "\n",
    "# Retrieve tx_packets\n",
    "tx_packets = None\n",
    "for key in data:\n",
    "    if \"tx_packets\" in data[key][0]:\n",
    "        tx_packets = data[key][0][\"tx_packets\"]\n",
    "        break\n",
    "\n",
    "print(\"tx_packets:\", tx_packets)"
   ]
  },
  {
   "cell_type": "code",
   "execution_count": 11,
   "id": "eabe2b11",
   "metadata": {},
   "outputs": [
    {
     "name": "stdout",
     "output_type": "stream",
     "text": [
      "{'rx_packets': 24327, 'tx_packets': 24548, 'rx_bytes': 2685698, 'tx_bytes': 2731958, 'rx_dropped': 0, 'tx_dropped': 0, 'rx_errors': 0, 'tx_errors': 0, 'rx_frame_err': 0, 'rx_over_err': 0, 'rx_crc_err': 0, 'collisions': 0, 'duration_sec': 2656, 'duration_nsec': 423000000, 'port_no': 5}\n",
      "Oui\n",
      "24548\n"
     ]
    }
   ],
   "source": [
    "\n",
    "import requests\n",
    "\n",
    "# Global variables\n",
    "DPID = 4 # central switch ID\n",
    "PORT_TO_GWI = 5 # port to GWI\n",
    "THRESHOLD = 20000 # threshold for latency\n",
    "CHECK_INTERVAL = 2 #\n",
    "stats= requests.get(f\"http://localhost:8080/stats/port/{DPID}/{PORT_TO_GWI}\").json()\n",
    "for port_stats in stats[str(DPID)]:\n",
    "    print(port_stats)\n",
    "    if port_stats['port_no'] == PORT_TO_GWI:\n",
    "        print(\"Oui\")\n",
    "        print(port_stats.get('tx_packets', 0))"
   ]
  },
  {
   "cell_type": "code",
   "execution_count": null,
   "id": "65127408",
   "metadata": {},
   "outputs": [
    {
     "name": "stdout",
     "output_type": "stream",
     "text": [
      "Status Code: 200\n",
      "Response Text: \n"
     ]
    }
   ],
   "source": [
    "import requests\n",
    "\n",
    "# Define the flow entry payload\n",
    "redirection_rule = {\n",
    "    \"dpid\": 4,\n",
    "    \"priority\": 100,\n",
    "    \"match\": {\n",
    "        \"in_port\": 1,\n",
    "        \"ipv4_src\": \"10.0.0.3\",\n",
    "        \"ipv4_dst\": \"10.0.0.2\",\n",
    "        \"eth_type\": 2048\n",
    "    },\n",
    "    \"actions\": [\n",
    "        {\n",
    "            \"type\": \"OUTPUT\",\n",
    "            \"port\": 4\n",
    "        }\n",
    "    ]\n",
    "}\n",
    "\n",
    "# Send the POST request\n",
    "try:\n",
    "    response = requests.post(\"http://localhost:8080/stats/flowentry/add\", json=redirection_rule)\n",
    "    print(\"Status Code:\", response.status_code)\n",
    "    print(\"Response Text:\", response.text)\n",
    "except requests.RequestException as e:\n",
    "    print(\"Error sending POST request:\", e)"
   ]
  },
  {
   "cell_type": "code",
   "execution_count": 20,
   "id": "f6fda2eb",
   "metadata": {},
   "outputs": [],
   "source": [
    "import subprocess\n",
    "def execute():\n",
    "    \"\"\"\n",
    "    Execute function to apply the planned actions.\n",
    "    \"\"\"\n",
    "    print(\"[Executing actions...] Starting gateway.js in GI2 and redirecting traffic to GI2 via ofctl_rest.\")\n",
    "    \n",
    "    # Start gateway.js in the gi2 container\n",
    "    try:\n",
    "        command = (\n",
    "            \"docker exec mn.gi2 nohup \"\n",
    "            \"node gateway.js \"\n",
    "            \"--local_ip 10.0.0.12 \"\n",
    "            \"--local_port 8182 \"\n",
    "            \"--local_name gi2 \"\n",
    "            \"--remote_ip 10.0.0.1 \"\n",
    "            \"--remote_port 8080 \"\n",
    "            \"--remote_name srv > /tmp/gi2.log 2>&1 &\"\n",
    "        )\n",
    "        subprocess.Popen(command, shell =True, stdout=subprocess.PIPE, stderr=subprocess.PIPE)\n",
    "        print(\"[INFO] gateway.js started successfully in the gi2 container.\")\n",
    "    except Exception as e:\n",
    "        print(\"[ERROR] Failed to start gateway.js in gi2 container:\", e)"
   ]
  },
  {
   "cell_type": "code",
   "execution_count": 22,
   "id": "610f3535",
   "metadata": {},
   "outputs": [
    {
     "name": "stdout",
     "output_type": "stream",
     "text": [
      "[Executing actions...] Starting gateway.js in GI2 and redirecting traffic to GI2 via ofctl_rest.\n",
      "[INFO] gateway.js started successfully in the gi2 container.\n"
     ]
    }
   ],
   "source": [
    "execute()"
   ]
  },
  {
   "cell_type": "code",
   "execution_count": null,
   "id": "5ec0bc2b",
   "metadata": {
    "vscode": {
     "languageId": "powershell"
    }
   },
   "outputs": [
    {
     "ename": "SyntaxError",
     "evalue": "invalid syntax (2225002556.py, line 1)",
     "output_type": "error",
     "traceback": [
      "\u001b[0;36m  Cell \u001b[0;32mIn[36], line 1\u001b[0;36m\u001b[0m\n\u001b[0;31m    curl http://localhost:8080/stats/flow/1\u001b[0m\n\u001b[0m         ^\u001b[0m\n\u001b[0;31mSyntaxError\u001b[0m\u001b[0;31m:\u001b[0m invalid syntax\n"
     ]
    }
   ],
   "source": [
    "curl -X POST -d '{\n",
    "     \"table_id\": 0,\n",
    "     \"out_port\": 2,\n",
    "     \"cookie\": 1,\n",
    "     \"cookie_mask\": 1,\n",
    "     \"match\":{\n",
    "         \"in_port\":1\n",
    "     }\n",
    "}' http://localhost:8080/stats/flow/1"
   ]
  }
 ],
 "metadata": {
  "kernelspec": {
   "display_name": "Python 3",
   "language": "python",
   "name": "python3"
  },
  "language_info": {
   "codemirror_mode": {
    "name": "ipython",
    "version": 3
   },
   "file_extension": ".py",
   "mimetype": "text/x-python",
   "name": "python",
   "nbconvert_exporter": "python",
   "pygments_lexer": "ipython3",
   "version": "3.8.10"
  }
 },
 "nbformat": 4,
 "nbformat_minor": 5
}
